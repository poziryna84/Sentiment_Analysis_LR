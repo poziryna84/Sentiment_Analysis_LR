{
 "cells": [
  {
   "cell_type": "code",
   "execution_count": 1,
   "id": "spare-locking",
   "metadata": {},
   "outputs": [],
   "source": [
    "from utils.ipnb import prepro_tweet\n",
    "import numpy as np\n",
    "import pandas as pd\n",
    "import nltk\n",
    "from nltk.corpus import twitter_samples\n",
    "import nbimporter\n",
    "from nltk.corpus import stopwords \n",
    "import nbimporter"
   ]
  },
  {
   "cell_type": "code",
   "execution_count": 5,
   "id": "criminal-designation",
   "metadata": {},
   "outputs": [],
   "source": [
    "import os\n",
    "from os import getcwd"
   ]
  },
  {
   "cell_type": "code",
   "execution_count": 6,
   "id": "bottom-companion",
   "metadata": {},
   "outputs": [
    {
     "data": {
      "text/plain": [
       "['.git',\n",
       " '.ipynb_checkpoints',\n",
       " 'jdk-15.0.1_windows-x64_bin.exe',\n",
       " 'README.md',\n",
       " 'Sentiment analysis with Logistic Regression.ipynb',\n",
       " 'Sentiment Analysis with with Naive Bias.ipynb',\n",
       " 'utils .ipynb']"
      ]
     },
     "execution_count": 6,
     "metadata": {},
     "output_type": "execute_result"
    }
   ],
   "source": [
    "os.listdir()"
   ]
  },
  {
   "cell_type": "code",
   "execution_count": 13,
   "id": "operational-slovakia",
   "metadata": {},
   "outputs": [
    {
     "ename": "ModuleNotFoundError",
     "evalue": "No module named 'utils'",
     "output_type": "error",
     "traceback": [
      "\u001b[1;31m---------------------------------------------------------------------------\u001b[0m",
      "\u001b[1;31mModuleNotFoundError\u001b[0m                       Traceback (most recent call last)",
      "\u001b[1;32m<ipython-input-13-e74c3cd6e188>\u001b[0m in \u001b[0;36m<module>\u001b[1;34m\u001b[0m\n\u001b[1;32m----> 1\u001b[1;33m \u001b[1;32mfrom\u001b[0m \u001b[0mutils\u001b[0m\u001b[1;33m.\u001b[0m\u001b[0mipnb\u001b[0m \u001b[1;32mimport\u001b[0m \u001b[0mprepro_tweet\u001b[0m\u001b[1;33m\u001b[0m\u001b[1;33m\u001b[0m\u001b[0m\n\u001b[0m",
      "\u001b[1;31mModuleNotFoundError\u001b[0m: No module named 'utils'"
     ]
    }
   ],
   "source": [
    "from utils.ipnb import prepro_tweet"
   ]
  },
  {
   "cell_type": "markdown",
   "id": "curious-gibson",
   "metadata": {},
   "source": [
    "# Data Load"
   ]
  },
  {
   "cell_type": "markdown",
   "id": "clear-responsibility",
   "metadata": {},
   "source": [
    "Prepare the data. The twitter_samples contains subsets of 5,000 positive tweets, 5,000 negative tweets"
   ]
  },
  {
   "cell_type": "code",
   "execution_count": 2,
   "id": "early-greensboro",
   "metadata": {},
   "outputs": [],
   "source": [
    "all_positive_tweets = twitter_samples.strings('positive_tweets.json')\n",
    "all_negative_tweets = twitter_samples.strings('negative_tweets.json')"
   ]
  },
  {
   "cell_type": "code",
   "execution_count": 3,
   "id": "dedicated-microphone",
   "metadata": {},
   "outputs": [],
   "source": [
    "# split the data into two pieces, one for training and one for testing (validation set)\n",
    "test_pos = all_positive_tweets[4000:]\n",
    "train_pos = all_positive_tweets[:4000]\n",
    "test_neg = all_negative_tweets[4000:]\n",
    "train_neg = all_negative_tweets[:4000]\n",
    "\n",
    "train_x = train_pos + train_neg\n",
    "test_x = test_pos + test_neg\n",
    "\n",
    "train_y = np.append(np.ones(len(train_pos)), np.zeros(len(train_neg)))\n",
    "test_y = np.append(np.ones(len(test_pos)), np.zeros(len(test_neg)))"
   ]
  },
  {
   "cell_type": "code",
   "execution_count": null,
   "id": "dated-proof",
   "metadata": {},
   "outputs": [],
   "source": [
    "visual_class(['Positive', 'Negative'], [len(train_pos), len(train_neg)])"
   ]
  }
 ],
 "metadata": {
  "kernelspec": {
   "display_name": "Python 3",
   "language": "python",
   "name": "python3"
  },
  "language_info": {
   "codemirror_mode": {
    "name": "ipython",
    "version": 3
   },
   "file_extension": ".py",
   "mimetype": "text/x-python",
   "name": "python",
   "nbconvert_exporter": "python",
   "pygments_lexer": "ipython3",
   "version": "3.8.3"
  }
 },
 "nbformat": 4,
 "nbformat_minor": 5
}
